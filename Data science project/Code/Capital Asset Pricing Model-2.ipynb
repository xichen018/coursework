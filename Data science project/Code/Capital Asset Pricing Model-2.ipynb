{
 "cells": [
  {
   "cell_type": "code",
   "execution_count": 1,
   "metadata": {
    "colab": {
     "base_uri": "https://localhost:8080/",
     "height": 421
    },
    "colab_type": "code",
    "executionInfo": {
     "elapsed": 2969,
     "status": "error",
     "timestamp": 1586352104201,
     "user": {
      "displayName": "Zhiyu ZHOU",
      "photoUrl": "",
      "userId": "02681464660482787105"
     },
     "user_tz": -480
    },
    "id": "VuxT42TY8BxI",
    "outputId": "87933296-2983-4b69-9c66-200be373efd0",
    "scrolled": false
   },
   "outputs": [
    {
     "name": "stderr",
     "output_type": "stream",
     "text": [
      "/Users/liuxichen/opt/anaconda3/lib/python3.7/site-packages/statsmodels/tools/_testing.py:19: FutureWarning: pandas.util.testing is deprecated. Use the functions in the public API at pandas.testing instead.\n",
      "  import pandas.util.testing as tm\n"
     ]
    },
    {
     "ename": "ModuleNotFoundError",
     "evalue": "No module named 'arch'",
     "output_type": "error",
     "traceback": [
      "\u001b[0;31m---------------------------------------------------------------------------\u001b[0m",
      "\u001b[0;31mModuleNotFoundError\u001b[0m                       Traceback (most recent call last)",
      "\u001b[0;32m<ipython-input-1-f3686b744039>\u001b[0m in \u001b[0;36m<module>\u001b[0;34m\u001b[0m\n\u001b[1;32m      5\u001b[0m \u001b[0;32mimport\u001b[0m \u001b[0mdatetime\u001b[0m\u001b[0;34m\u001b[0m\u001b[0;34m\u001b[0m\u001b[0m\n\u001b[1;32m      6\u001b[0m \u001b[0;32mimport\u001b[0m \u001b[0mmatplotlib\u001b[0m\u001b[0;34m.\u001b[0m\u001b[0mpyplot\u001b[0m \u001b[0;32mas\u001b[0m \u001b[0mplt\u001b[0m\u001b[0;34m\u001b[0m\u001b[0;34m\u001b[0m\u001b[0m\n\u001b[0;32m----> 7\u001b[0;31m \u001b[0;32mfrom\u001b[0m \u001b[0march\u001b[0m \u001b[0;32mimport\u001b[0m \u001b[0march_model\u001b[0m\u001b[0;34m\u001b[0m\u001b[0;34m\u001b[0m\u001b[0m\n\u001b[0m\u001b[1;32m      8\u001b[0m \u001b[0;32mfrom\u001b[0m \u001b[0mstatsmodels\u001b[0m\u001b[0;34m.\u001b[0m\u001b[0mgraphics\u001b[0m\u001b[0;34m.\u001b[0m\u001b[0mtsaplots\u001b[0m \u001b[0;32mimport\u001b[0m \u001b[0mplot_acf\u001b[0m\u001b[0;34m\u001b[0m\u001b[0;34m\u001b[0m\u001b[0m\n\u001b[1;32m      9\u001b[0m \u001b[0;32mfrom\u001b[0m \u001b[0mstatsmodels\u001b[0m\u001b[0;34m.\u001b[0m\u001b[0mtsa\u001b[0m\u001b[0;34m.\u001b[0m\u001b[0marima_model\u001b[0m \u001b[0;32mimport\u001b[0m \u001b[0mARIMA\u001b[0m\u001b[0;34m\u001b[0m\u001b[0;34m\u001b[0m\u001b[0m\n",
      "\u001b[0;31mModuleNotFoundError\u001b[0m: No module named 'arch'"
     ]
    }
   ],
   "source": [
    "import pandas as pd\n",
    "import numpy as np\n",
    "import statsmodels.api as sm\n",
    "from statsmodels import regression\n",
    "import datetime\n",
    "import matplotlib.pyplot as plt\n",
    "from arch import arch_model\n",
    "from statsmodels.graphics.tsaplots import plot_acf\n",
    "from statsmodels.tsa.arima_model import ARIMA\n",
    "import math,random"
   ]
  },
  {
   "cell_type": "markdown",
   "metadata": {
    "colab_type": "text",
    "id": "2BuKze0O8BxQ"
   },
   "source": [
    "## Preprocessing"
   ]
  },
  {
   "cell_type": "code",
   "execution_count": null,
   "metadata": {
    "colab": {},
    "colab_type": "code",
    "id": "O31dgV_S8BxR"
   },
   "outputs": [],
   "source": [
    "Testing_Length=150"
   ]
  },
  {
   "cell_type": "code",
   "execution_count": 0,
   "metadata": {
    "colab": {
     "base_uri": "https://localhost:8080/",
     "height": 442
    },
    "colab_type": "code",
    "executionInfo": {
     "elapsed": 3822,
     "status": "error",
     "timestamp": 1586352105104,
     "user": {
      "displayName": "Zhiyu ZHOU",
      "photoUrl": "",
      "userId": "02681464660482787105"
     },
     "user_tz": -480
    },
    "id": "BvVTqdDI8BxX",
    "outputId": "4cabbc3f-e486-4fa6-f6ac-431e26b46ec4",
    "scrolled": true
   },
   "outputs": [
    {
     "ename": "FileNotFoundError",
     "evalue": "ignored",
     "output_type": "error",
     "traceback": [
      "\u001b[0;31m---------------------------------------------------------------------------\u001b[0m",
      "\u001b[0;31mFileNotFoundError\u001b[0m                         Traceback (most recent call last)",
      "\u001b[0;32m<ipython-input-3-cfd691632d98>\u001b[0m in \u001b[0;36m<module>\u001b[0;34m()\u001b[0m\n\u001b[1;32m      7\u001b[0m         \u001b[0mtest_list\u001b[0m\u001b[0;34m[\u001b[0m\u001b[0mi\u001b[0m\u001b[0;34m]\u001b[0m\u001b[0;34m=\u001b[0m\u001b[0mnp\u001b[0m\u001b[0;34m.\u001b[0m\u001b[0mabs\u001b[0m\u001b[0;34m(\u001b[0m\u001b[0mnp\u001b[0m\u001b[0;34m.\u001b[0m\u001b[0mrandom\u001b[0m\u001b[0;34m.\u001b[0m\u001b[0mnormal\u001b[0m\u001b[0;34m(\u001b[0m\u001b[0;34m)\u001b[0m\u001b[0;34m)\u001b[0m\u001b[0;34m\u001b[0m\u001b[0;34m\u001b[0m\u001b[0m\n\u001b[1;32m      8\u001b[0m \u001b[0maddress\u001b[0m\u001b[0;34m=\u001b[0m\u001b[0;34mr'C:\\Users\\linzi\\Desktop\\CS3481 Code\\Final_CSV.csv'\u001b[0m\u001b[0;34m\u001b[0m\u001b[0;34m\u001b[0m\u001b[0m\n\u001b[0;32m----> 9\u001b[0;31m \u001b[0mInputCSV\u001b[0m\u001b[0;34m=\u001b[0m\u001b[0mpd\u001b[0m\u001b[0;34m.\u001b[0m\u001b[0mread_csv\u001b[0m\u001b[0;34m(\u001b[0m\u001b[0maddress\u001b[0m\u001b[0;34m,\u001b[0m\u001b[0mindex_col\u001b[0m\u001b[0;34m=\u001b[0m\u001b[0;34m'Dates'\u001b[0m\u001b[0;34m)\u001b[0m\u001b[0;34m\u001b[0m\u001b[0;34m\u001b[0m\u001b[0m\n\u001b[0m\u001b[1;32m     10\u001b[0m \u001b[0mTraining_Length\u001b[0m\u001b[0;34m=\u001b[0m\u001b[0mInputCSV\u001b[0m\u001b[0;34m.\u001b[0m\u001b[0mloc\u001b[0m\u001b[0;34m[\u001b[0m\u001b[0;34m'2002/8/1'\u001b[0m\u001b[0;34m:\u001b[0m\u001b[0;34m'2007/9/4'\u001b[0m\u001b[0;34m]\u001b[0m\u001b[0;34m.\u001b[0m\u001b[0mshape\u001b[0m\u001b[0;34m[\u001b[0m\u001b[0;36m0\u001b[0m\u001b[0;34m]\u001b[0m\u001b[0;34m\u001b[0m\u001b[0;34m\u001b[0m\u001b[0m\n\u001b[1;32m     11\u001b[0m \u001b[0;34m\u001b[0m\u001b[0m\n",
      "\u001b[0;32m/usr/local/lib/python3.6/dist-packages/pandas/io/parsers.py\u001b[0m in \u001b[0;36mparser_f\u001b[0;34m(filepath_or_buffer, sep, delimiter, header, names, index_col, usecols, squeeze, prefix, mangle_dupe_cols, dtype, engine, converters, true_values, false_values, skipinitialspace, skiprows, skipfooter, nrows, na_values, keep_default_na, na_filter, verbose, skip_blank_lines, parse_dates, infer_datetime_format, keep_date_col, date_parser, dayfirst, cache_dates, iterator, chunksize, compression, thousands, decimal, lineterminator, quotechar, quoting, doublequote, escapechar, comment, encoding, dialect, error_bad_lines, warn_bad_lines, delim_whitespace, low_memory, memory_map, float_precision)\u001b[0m\n\u001b[1;32m    674\u001b[0m         )\n\u001b[1;32m    675\u001b[0m \u001b[0;34m\u001b[0m\u001b[0m\n\u001b[0;32m--> 676\u001b[0;31m         \u001b[0;32mreturn\u001b[0m \u001b[0m_read\u001b[0m\u001b[0;34m(\u001b[0m\u001b[0mfilepath_or_buffer\u001b[0m\u001b[0;34m,\u001b[0m \u001b[0mkwds\u001b[0m\u001b[0;34m)\u001b[0m\u001b[0;34m\u001b[0m\u001b[0;34m\u001b[0m\u001b[0m\n\u001b[0m\u001b[1;32m    677\u001b[0m \u001b[0;34m\u001b[0m\u001b[0m\n\u001b[1;32m    678\u001b[0m     \u001b[0mparser_f\u001b[0m\u001b[0;34m.\u001b[0m\u001b[0m__name__\u001b[0m \u001b[0;34m=\u001b[0m \u001b[0mname\u001b[0m\u001b[0;34m\u001b[0m\u001b[0;34m\u001b[0m\u001b[0m\n",
      "\u001b[0;32m/usr/local/lib/python3.6/dist-packages/pandas/io/parsers.py\u001b[0m in \u001b[0;36m_read\u001b[0;34m(filepath_or_buffer, kwds)\u001b[0m\n\u001b[1;32m    446\u001b[0m \u001b[0;34m\u001b[0m\u001b[0m\n\u001b[1;32m    447\u001b[0m     \u001b[0;31m# Create the parser.\u001b[0m\u001b[0;34m\u001b[0m\u001b[0;34m\u001b[0m\u001b[0;34m\u001b[0m\u001b[0m\n\u001b[0;32m--> 448\u001b[0;31m     \u001b[0mparser\u001b[0m \u001b[0;34m=\u001b[0m \u001b[0mTextFileReader\u001b[0m\u001b[0;34m(\u001b[0m\u001b[0mfp_or_buf\u001b[0m\u001b[0;34m,\u001b[0m \u001b[0;34m**\u001b[0m\u001b[0mkwds\u001b[0m\u001b[0;34m)\u001b[0m\u001b[0;34m\u001b[0m\u001b[0;34m\u001b[0m\u001b[0m\n\u001b[0m\u001b[1;32m    449\u001b[0m \u001b[0;34m\u001b[0m\u001b[0m\n\u001b[1;32m    450\u001b[0m     \u001b[0;32mif\u001b[0m \u001b[0mchunksize\u001b[0m \u001b[0;32mor\u001b[0m \u001b[0miterator\u001b[0m\u001b[0;34m:\u001b[0m\u001b[0;34m\u001b[0m\u001b[0;34m\u001b[0m\u001b[0m\n",
      "\u001b[0;32m/usr/local/lib/python3.6/dist-packages/pandas/io/parsers.py\u001b[0m in \u001b[0;36m__init__\u001b[0;34m(self, f, engine, **kwds)\u001b[0m\n\u001b[1;32m    878\u001b[0m             \u001b[0mself\u001b[0m\u001b[0;34m.\u001b[0m\u001b[0moptions\u001b[0m\u001b[0;34m[\u001b[0m\u001b[0;34m\"has_index_names\"\u001b[0m\u001b[0;34m]\u001b[0m \u001b[0;34m=\u001b[0m \u001b[0mkwds\u001b[0m\u001b[0;34m[\u001b[0m\u001b[0;34m\"has_index_names\"\u001b[0m\u001b[0;34m]\u001b[0m\u001b[0;34m\u001b[0m\u001b[0;34m\u001b[0m\u001b[0m\n\u001b[1;32m    879\u001b[0m \u001b[0;34m\u001b[0m\u001b[0m\n\u001b[0;32m--> 880\u001b[0;31m         \u001b[0mself\u001b[0m\u001b[0;34m.\u001b[0m\u001b[0m_make_engine\u001b[0m\u001b[0;34m(\u001b[0m\u001b[0mself\u001b[0m\u001b[0;34m.\u001b[0m\u001b[0mengine\u001b[0m\u001b[0;34m)\u001b[0m\u001b[0;34m\u001b[0m\u001b[0;34m\u001b[0m\u001b[0m\n\u001b[0m\u001b[1;32m    881\u001b[0m \u001b[0;34m\u001b[0m\u001b[0m\n\u001b[1;32m    882\u001b[0m     \u001b[0;32mdef\u001b[0m \u001b[0mclose\u001b[0m\u001b[0;34m(\u001b[0m\u001b[0mself\u001b[0m\u001b[0;34m)\u001b[0m\u001b[0;34m:\u001b[0m\u001b[0;34m\u001b[0m\u001b[0;34m\u001b[0m\u001b[0m\n",
      "\u001b[0;32m/usr/local/lib/python3.6/dist-packages/pandas/io/parsers.py\u001b[0m in \u001b[0;36m_make_engine\u001b[0;34m(self, engine)\u001b[0m\n\u001b[1;32m   1112\u001b[0m     \u001b[0;32mdef\u001b[0m \u001b[0m_make_engine\u001b[0m\u001b[0;34m(\u001b[0m\u001b[0mself\u001b[0m\u001b[0;34m,\u001b[0m \u001b[0mengine\u001b[0m\u001b[0;34m=\u001b[0m\u001b[0;34m\"c\"\u001b[0m\u001b[0;34m)\u001b[0m\u001b[0;34m:\u001b[0m\u001b[0;34m\u001b[0m\u001b[0;34m\u001b[0m\u001b[0m\n\u001b[1;32m   1113\u001b[0m         \u001b[0;32mif\u001b[0m \u001b[0mengine\u001b[0m \u001b[0;34m==\u001b[0m \u001b[0;34m\"c\"\u001b[0m\u001b[0;34m:\u001b[0m\u001b[0;34m\u001b[0m\u001b[0;34m\u001b[0m\u001b[0m\n\u001b[0;32m-> 1114\u001b[0;31m             \u001b[0mself\u001b[0m\u001b[0;34m.\u001b[0m\u001b[0m_engine\u001b[0m \u001b[0;34m=\u001b[0m \u001b[0mCParserWrapper\u001b[0m\u001b[0;34m(\u001b[0m\u001b[0mself\u001b[0m\u001b[0;34m.\u001b[0m\u001b[0mf\u001b[0m\u001b[0;34m,\u001b[0m \u001b[0;34m**\u001b[0m\u001b[0mself\u001b[0m\u001b[0;34m.\u001b[0m\u001b[0moptions\u001b[0m\u001b[0;34m)\u001b[0m\u001b[0;34m\u001b[0m\u001b[0;34m\u001b[0m\u001b[0m\n\u001b[0m\u001b[1;32m   1115\u001b[0m         \u001b[0;32melse\u001b[0m\u001b[0;34m:\u001b[0m\u001b[0;34m\u001b[0m\u001b[0;34m\u001b[0m\u001b[0m\n\u001b[1;32m   1116\u001b[0m             \u001b[0;32mif\u001b[0m \u001b[0mengine\u001b[0m \u001b[0;34m==\u001b[0m \u001b[0;34m\"python\"\u001b[0m\u001b[0;34m:\u001b[0m\u001b[0;34m\u001b[0m\u001b[0;34m\u001b[0m\u001b[0m\n",
      "\u001b[0;32m/usr/local/lib/python3.6/dist-packages/pandas/io/parsers.py\u001b[0m in \u001b[0;36m__init__\u001b[0;34m(self, src, **kwds)\u001b[0m\n\u001b[1;32m   1889\u001b[0m         \u001b[0mkwds\u001b[0m\u001b[0;34m[\u001b[0m\u001b[0;34m\"usecols\"\u001b[0m\u001b[0;34m]\u001b[0m \u001b[0;34m=\u001b[0m \u001b[0mself\u001b[0m\u001b[0;34m.\u001b[0m\u001b[0musecols\u001b[0m\u001b[0;34m\u001b[0m\u001b[0;34m\u001b[0m\u001b[0m\n\u001b[1;32m   1890\u001b[0m \u001b[0;34m\u001b[0m\u001b[0m\n\u001b[0;32m-> 1891\u001b[0;31m         \u001b[0mself\u001b[0m\u001b[0;34m.\u001b[0m\u001b[0m_reader\u001b[0m \u001b[0;34m=\u001b[0m \u001b[0mparsers\u001b[0m\u001b[0;34m.\u001b[0m\u001b[0mTextReader\u001b[0m\u001b[0;34m(\u001b[0m\u001b[0msrc\u001b[0m\u001b[0;34m,\u001b[0m \u001b[0;34m**\u001b[0m\u001b[0mkwds\u001b[0m\u001b[0;34m)\u001b[0m\u001b[0;34m\u001b[0m\u001b[0;34m\u001b[0m\u001b[0m\n\u001b[0m\u001b[1;32m   1892\u001b[0m         \u001b[0mself\u001b[0m\u001b[0;34m.\u001b[0m\u001b[0munnamed_cols\u001b[0m \u001b[0;34m=\u001b[0m \u001b[0mself\u001b[0m\u001b[0;34m.\u001b[0m\u001b[0m_reader\u001b[0m\u001b[0;34m.\u001b[0m\u001b[0munnamed_cols\u001b[0m\u001b[0;34m\u001b[0m\u001b[0;34m\u001b[0m\u001b[0m\n\u001b[1;32m   1893\u001b[0m \u001b[0;34m\u001b[0m\u001b[0m\n",
      "\u001b[0;32mpandas/_libs/parsers.pyx\u001b[0m in \u001b[0;36mpandas._libs.parsers.TextReader.__cinit__\u001b[0;34m()\u001b[0m\n",
      "\u001b[0;32mpandas/_libs/parsers.pyx\u001b[0m in \u001b[0;36mpandas._libs.parsers.TextReader._setup_parser_source\u001b[0;34m()\u001b[0m\n",
      "\u001b[0;31mFileNotFoundError\u001b[0m: [Errno 2] File C:\\Users\\linzi\\Desktop\\CS3481 Code\\Final_CSV.csv does not exist: 'C:\\\\Users\\\\linzi\\\\Desktop\\\\CS3481 Code\\\\Final_CSV.csv'"
     ]
    }
   ],
   "source": [
    "np.random.seed(101)\n",
    "test_list=np.zeros(125)\n",
    "for i in range (0,125):\n",
    "    if i%2 == 0:\n",
    "        test_list[i]=-1*np.abs(np.random.normal())\n",
    "    else:\n",
    "        test_list[i]=np.abs(np.random.normal())\n",
    "address=r'C:\\Users\\liuxichen\\Desktop\\CS3481 Code\\Final_CSV.csv'\n",
    "InputCSV=pd.read_csv(address,index_col='Dates')\n",
    "Training_Length=InputCSV.loc['2002/8/1':'2007/9/4'].shape[0]\n",
    "\n",
    "DJUSGF_simple_return_train=InputCSV['DJUSGF_LAST_PRICE'].pct_change()[1:Training_Length-Testing_Length]\n",
    "DJUSGF_simple_return_test=InputCSV['DJUSGF_LAST_PRICE'].pct_change()[Training_Length-Testing_Length:Training_Length]\n",
    "\n",
    "DJUSHC_simple_return_train=InputCSV['DJUSHC_LAST_PRICE'].pct_change()[1:Training_Length-Testing_Length]\n",
    "DJUSHC_simple_return_test=InputCSV['DJUSHC_LAST_PRICE'].pct_change()[Training_Length-Testing_Length:Training_Length]\n",
    "\n",
    "SMB_train=InputCSV['SMB'][1:Training_Length-Testing_Length]\n",
    "SMB_test=InputCSV['SMB'][Training_Length-Testing_Length:Training_Length]\n",
    "\n",
    "HML_train=InputCSV['HML'][1:Training_Length-Testing_Length]\n",
    "HML_test=InputCSV['HML'][Training_Length-Testing_Length:Training_Length]\n",
    "\n",
    "Risk_Free_Rate_train=InputCSV['RF'][1:Training_Length-Testing_Length]\n",
    "Risk_Free_Rate_test=InputCSV['RF'][Training_Length-Testing_Length:Training_Length]\n",
    "\n",
    "Market_Excess_train=InputCSV['SPX_LAST_PRICE'].pct_change()[1:Training_Length-Testing_Length]-Risk_Free_Rate_train\n",
    "Market_Excess_test=InputCSV['SPX_LAST_PRICE'].pct_change()[Training_Length-Testing_Length:Training_Length]-Risk_Free_Rate_test\n",
    "\n",
    "IndexList=InputCSV.index.tolist()[0:Training_Length+Testing_Length]\n",
    "sub_Index=IndexList[0:Training_Length]\n",
    "train_sub_Index=IndexList[0:Training_Length-Testing_Length]\n",
    "test_sub_Index=IndexList[Training_Length-Testing_Length:Training_Length+1]\n",
    "test_Index=IndexList[Training_Length:Training_Length+125]\n",
    "\n",
    "DJUSGF_testing=InputCSV['DJUSGF_LAST_PRICE'].pct_change()[Training_Length:Training_Length+125]\n",
    "DJUSHC_testing=InputCSV['DJUSHC_LAST_PRICE'].pct_change()[Training_Length:Training_Length+125]"
   ]
  },
  {
   "cell_type": "code",
   "execution_count": 0,
   "metadata": {
    "colab": {},
    "colab_type": "code",
    "id": "oNBua8g-8Bxc"
   },
   "outputs": [],
   "source": [
    "FamaFrench_Finance=regression.linear_model.OLS(DJUSGF_simple_return_train,sm.add_constant(Market_Excess_train)).fit()\n",
    "Fama_Mean_Finance=1+FamaFrench_Finance.params['const']+FamaFrench_Finance.params[0]*Market_Excess_train\n",
    "\n",
    "FamaFrench_Health=regression.linear_model.OLS(DJUSHC_simple_return_train,sm.add_constant(Market_Excess_train)).fit()\n",
    "Fama_Mean_Health=1+FamaFrench_Health.params['const']+FamaFrench_Health.params[0]*Market_Excess_train"
   ]
  },
  {
   "cell_type": "code",
   "execution_count": 0,
   "metadata": {
    "colab": {},
    "colab_type": "code",
    "id": "aCZ7yNZE8Bxj"
   },
   "outputs": [],
   "source": [
    "Fama_Mean_Finance_test=1+FamaFrench_Finance.params['const']+FamaFrench_Finance.params[0]*Market_Excess_test\n",
    "Fama_Mean_Health_test=1+FamaFrench_Health.params['const']+FamaFrench_Health.params[0]*Market_Excess_test"
   ]
  },
  {
   "cell_type": "code",
   "execution_count": 0,
   "metadata": {
    "colab": {},
    "colab_type": "code",
    "id": "caNGlwmc8Bxp"
   },
   "outputs": [],
   "source": [
    "Pred_Fama_Finance=np.zeros(Fama_Mean_Finance.shape[0]+1)\n",
    "Pred_Fama_Finance[0]=InputCSV['DJUSGF_LAST_PRICE'][0]\n",
    "Test_Finance=np.zeros(Fama_Mean_Finance_test.shape[0]+1)\n",
    "Test_Finance[0]=InputCSV['DJUSGF_LAST_PRICE'][Training_Length-Testing_Length]\n",
    "\n",
    "Pred_Fama_Health=np.zeros(Fama_Mean_Health.shape[0]+1)\n",
    "Pred_Fama_Health[0]=InputCSV['DJUSHC_LAST_PRICE'][0]\n",
    "Test_Health=np.zeros(Fama_Mean_Health_test.shape[0]+1)\n",
    "Test_Health[0]=InputCSV['DJUSHC_LAST_PRICE'][Training_Length-Testing_Length]"
   ]
  },
  {
   "cell_type": "code",
   "execution_count": 0,
   "metadata": {
    "colab": {},
    "colab_type": "code",
    "id": "B6Yakdzc8Bxv"
   },
   "outputs": [],
   "source": [
    "## Volatility for Financial Service Index\n",
    "De_Mean_Finance=DJUSGF_simple_return_train-(Fama_Mean_Finance-1)\n",
    "De_Mean_Finance_Test=DJUSGF_simple_return_test-(Fama_Mean_Finance_test-1)\n",
    "\n",
    "model_Finance = arch_model(De_Mean_Finance*100, mean='Zero', vol='GARCH', p=1, q=2)\n",
    "res_Finance=model_Finance.fit()\n",
    "epsilon_Finance=(res_Finance.conditional_volatility/100)*np.sign(De_Mean_Finance)\n",
    "\n",
    "model_Finance_test=arch_model(De_Mean_Finance_Test*100, mean='Zero', vol='GARCH', p=1, q=2)\n",
    "res_Finance_test=model_Finance_test.fit()\n",
    "epsilon_Finance_test=(res_Finance_test.conditional_volatility/100)*np.sign(De_Mean_Finance_Test)\n",
    "##Volatility for Health Care Index\n",
    "De_Mean_Health=DJUSHC_simple_return_train-(Fama_Mean_Health-1)\n",
    "De_Mean_Health_Test=DJUSHC_simple_return_test-(Fama_Mean_Health_test-1)\n",
    "\n",
    "model_Health = arch_model(De_Mean_Health*100, mean='Zero', vol='GARCH', p=1, q=1)\n",
    "res_Health=model_Health.fit()\n",
    "epsilon_Health=(res_Health.conditional_volatility/100)*np.sign(De_Mean_Health)\n",
    "\n",
    "model_Health_test = arch_model(De_Mean_Health_Test*100, mean='Zero', vol='GARCH', p=1, q=1)\n",
    "res_Health_test=model_Health_test.fit()\n",
    "epsilon_Health_test=(res_Health_test.conditional_volatility/100)*np.sign(De_Mean_Health_Test)\n",
    "epsilon_Health_test=epsilon_Health_test/1.5"
   ]
  },
  {
   "cell_type": "code",
   "execution_count": 0,
   "metadata": {
    "colab": {},
    "colab_type": "code",
    "id": "RuwSkmJD8Bx4"
   },
   "outputs": [],
   "source": [
    "for i in range(1,Fama_Mean_Finance.shape[0]+1):\n",
    "    Pred_Fama_Finance[i]=Pred_Fama_Finance[i-1]*(Fama_Mean_Finance[i-1]+epsilon_Finance[i-1])\n",
    "Pred_Fama_Finance_df=pd.DataFrame(data=Pred_Fama_Finance,index=train_sub_Index,columns=['Finance Index Fama French'])\n",
    "\n",
    "for i in range(1,Fama_Mean_Finance_test.shape[0]+1):\n",
    "    Test_Finance[i]=Test_Finance[i-1]*(Fama_Mean_Finance_test[i-1]+epsilon_Finance_test[i-1])\n",
    "Test_Finance_df=pd.DataFrame(data=Test_Finance,index=test_sub_Index,columns=['Finance Index Fama French Test'])\n",
    "\n",
    "for i in range(1,Fama_Mean_Health.shape[0]+1):\n",
    "    Pred_Fama_Health[i]=Pred_Fama_Health[i-1]*(Fama_Mean_Health[i-1]+epsilon_Health[i-1])\n",
    "Pred_Fama_Health_df=pd.DataFrame(data=Pred_Fama_Health,index=train_sub_Index,columns=['Health Care Index Fama French'])\n",
    "\n",
    "for i in range(1,Fama_Mean_Health_test.shape[0]+1):\n",
    "    Test_Health[i]=Test_Health[i-1]*(Fama_Mean_Health_test[i-1]+epsilon_Health_test[i-1])\n",
    "Test_Health_df=pd.DataFrame(data=Test_Health,index=test_sub_Index,columns=['Health Index Fama French Test'])"
   ]
  },
  {
   "cell_type": "code",
   "execution_count": 0,
   "metadata": {
    "colab": {},
    "colab_type": "code",
    "id": "8Mtz0ZF78Bx_"
   },
   "outputs": [],
   "source": [
    "%matplotlib inline\n",
    "plt.rcParams['figure.figsize']=15,10\n",
    "plt.plot(InputCSV['DJUSGF_LAST_PRICE'][0:Training_Length])\n",
    "plt.plot(Pred_Fama_Finance_df)\n",
    "plt.plot(Test_Finance_df)\n",
    "plt.legend(['Dow Jones U.S. Financial Service Index','F-F Training','F-F Testing'])\n",
    "plt.xlabel('Time')\n",
    "plt.ylabel('Dow Jones U.S. Financial Service Index Value')"
   ]
  },
  {
   "cell_type": "code",
   "execution_count": 0,
   "metadata": {
    "colab": {},
    "colab_type": "code",
    "id": "ZEq4K9VU8ByH"
   },
   "outputs": [],
   "source": [
    "%matplotlib inline\n",
    "plt.rcParams['figure.figsize']=15,10\n",
    "plt.plot(InputCSV['DJUSHC_LAST_PRICE'][0:Training_Length])\n",
    "plt.plot(Pred_Fama_Health_df)\n",
    "plt.plot(Test_Health_df)\n",
    "plt.legend(['Dow Jones U.S. Healthcare Index','F-F Training','F-F Testing'])\n",
    "plt.xlabel('Time')\n",
    "plt.ylabel('Dow Jones U.S. Healthcare Index Value')"
   ]
  },
  {
   "cell_type": "code",
   "execution_count": 0,
   "metadata": {
    "colab": {},
    "colab_type": "code",
    "id": "B87eIS_X8ByN"
   },
   "outputs": [],
   "source": [
    "#De_Mean_Finance.to_csv(r'C:\\Users\\linzi\\Desktop\\CS3481 Code\\DeMean_CAPM_F.csv')\n",
    "#De_Mean_Health.to_csv(r'C:\\Users\\linzi\\Desktop\\CS3481 Code\\DeMean_CAPM_H.csv')\n",
    "#P1.to_csv(r'C:\\Users\\linzi\\Desktop\\CS3481 Code\\ARMA_CAMP_F.csv')\n",
    "#P2.to_csv(r'C:\\Users\\linzi\\Desktop\\CS3481 Code\\ARMA_CAMP_H.csv')"
   ]
  },
  {
   "cell_type": "code",
   "execution_count": 0,
   "metadata": {
    "colab": {},
    "colab_type": "code",
    "id": "LcQX905O8ByX"
   },
   "outputs": [],
   "source": [
    "model = ARIMA((Fama_Mean_Finance+epsilon_Finance)*10000, order=(3,0,2))\n",
    "model_F = model.fit(disp=0)\n",
    "\n",
    "model = ARIMA((Fama_Mean_Health+epsilon_Health)*10000, order=(5,0,3))\n",
    "model_H = model.fit(disp=0)"
   ]
  },
  {
   "cell_type": "code",
   "execution_count": 0,
   "metadata": {
    "colab": {},
    "colab_type": "code",
    "id": "u8OnwS_k8Bys"
   },
   "outputs": [],
   "source": [
    "shock_F=res_Finance.forecast(horizon=125)\n",
    "epsilon_F_hat=np.sqrt(shock_F.variance.values[-1, :])/100\n",
    "\n",
    "shock_H=res_Health.forecast(horizon=125)\n",
    "epsilon_H_hat=np.sqrt(shock_H.variance.values[-1, :])/100"
   ]
  },
  {
   "cell_type": "code",
   "execution_count": 0,
   "metadata": {
    "colab": {},
    "colab_type": "code",
    "id": "ErUXzimr8Byw"
   },
   "outputs": [],
   "source": [
    "F_fc, F_se, F_conf = model_F.forecast(125, alpha=0.05)  \n",
    "F_series = (pd.Series(F_fc, index=test_Index)/10000+epsilon_F_hat*test_list)\n",
    "F_lower_series =(pd.Series(F_conf[:, 0], index=test_Index)/10000-epsilon_F_hat)\n",
    "F_upper_series = (pd.Series(F_conf[:, 1], index=test_Index)/10000+epsilon_F_hat)\n",
    "\n",
    "H_fc, H_se, H_conf = model_H.forecast(125, alpha=0.05)  \n",
    "H_series = (pd.Series(H_fc, index=test_Index)/10000+epsilon_H_hat*test_list)\n",
    "H_lower_series =(pd.Series(H_conf[:, 0], index=test_Index)/10000-epsilon_H_hat)\n",
    "H_upper_series = (pd.Series(H_conf[:, 1], index=test_Index)/10000+epsilon_H_hat)"
   ]
  },
  {
   "cell_type": "code",
   "execution_count": 0,
   "metadata": {
    "colab": {},
    "colab_type": "code",
    "id": "6GJF5Iaj8By1"
   },
   "outputs": [],
   "source": [
    "Forecast_Finance=np.zeros(125)\n",
    "LowerBound_Finance=np.zeros(125)\n",
    "UpperBound_Finance=np.zeros(125)\n",
    "Forecast_Finance[0]=InputCSV['DJUSGF_LAST_PRICE'][Training_Length]\n",
    "LowerBound_Finance[0]=InputCSV['DJUSGF_LAST_PRICE'][Training_Length]\n",
    "UpperBound_Finance[0]=InputCSV['DJUSGF_LAST_PRICE'][Training_Length]\n",
    "for i in range(1,125):\n",
    "    Forecast_Finance[i]=Forecast_Finance[i-1]*(F_series[i-1])\n",
    "    LowerBound_Finance[i]=Forecast_Finance[i-1]*(F_lower_series[i-1])\n",
    "    UpperBound_Finance[i]=Forecast_Finance[i-1]*(F_upper_series[i-1])\n",
    "Dict_F = {'Forecasted Financial Service Index': Forecast_Finance, 'Lower Bound': LowerBound_Finance,'Upper Bound': UpperBound_Finance}\n",
    "Forecast_Finance_df=pd.DataFrame(data=Dict_F,index=test_Index)\n",
    "\n",
    "Forecast_Health=np.zeros(125)\n",
    "LowerBound_Health=np.zeros(125)\n",
    "UpperBound_Health=np.zeros(125)\n",
    "Forecast_Health[0]=InputCSV['DJUSHC_LAST_PRICE'][Training_Length]\n",
    "LowerBound_Health[0]=InputCSV['DJUSHC_LAST_PRICE'][Training_Length]\n",
    "UpperBound_Health[0]=InputCSV['DJUSHC_LAST_PRICE'][Training_Length]\n",
    "for i in range(1,125):\n",
    "    Forecast_Health[i]=Forecast_Health[i-1]*(H_series[i-1])\n",
    "    LowerBound_Health[i]=Forecast_Health[i-1]*(H_lower_series[i-1])\n",
    "    UpperBound_Health[i]=Forecast_Health[i-1]*(H_upper_series[i-1])\n",
    "Dict_H = {'Forecasted Health Care Index': Forecast_Health, 'Lower Bound': LowerBound_Health,'Upper Bound': UpperBound_Health}\n",
    "Forecast_Health_df=pd.DataFrame(data=Dict_H,index=test_Index)"
   ]
  },
  {
   "cell_type": "code",
   "execution_count": 0,
   "metadata": {
    "colab": {},
    "colab_type": "code",
    "id": "ylWJRKMO8By7"
   },
   "outputs": [],
   "source": [
    "%matplotlib inline\n",
    "plt.rcParams['figure.figsize']=15,10\n",
    "plt.plot(InputCSV['DJUSGF_LAST_PRICE'][Training_Length:Training_Length+125],\n",
    "         linewidth=5,color='b',label='Dow Jones U.S. Financial Service Index')\n",
    "plt.plot(Forecast_Finance_df['Forecasted Financial Service Index'],\n",
    "         linewidth=5,label='Forecasting-Fama French',color='k')\n",
    "plt.fill_between(test_Index,Forecast_Finance_df['Lower Bound'], Forecast_Finance_df['Upper Bound'],\n",
    "                 color='k', alpha=.15,label='95% Confidence Interval')\n",
    "plt.xlabel('Time')\n",
    "plt.legend()\n",
    "plt.ylabel('Dow Jones U.S. Financial Service Index Value')"
   ]
  },
  {
   "cell_type": "code",
   "execution_count": 0,
   "metadata": {
    "colab": {},
    "colab_type": "code",
    "id": "7UZw2Avc8BzC"
   },
   "outputs": [],
   "source": [
    "%matplotlib inline\n",
    "plt.rcParams['figure.figsize']=15,10\n",
    "plt.ylim(300,420)\n",
    "plt.plot(InputCSV['DJUSHC_LAST_PRICE'][Training_Length:Training_Length+125],\n",
    "         linewidth=5,label='Dow Jones U.S. Health Care Index')\n",
    "plt.plot(Forecast_Health_df['Forecasted Health Care Index'],label='Forecasting-Fama French',linewidth=5)\n",
    "plt.fill_between(test_Index,Forecast_Health_df['Lower Bound'], Forecast_Health_df['Upper Bound'],\n",
    "                 color='k', alpha=.15,label='95% Confidence Interval')\n",
    "plt.xlabel('Time')\n",
    "plt.legend()\n",
    "plt.ylabel('Dow Jones U.S. Healthcare Index Value')"
   ]
  },
  {
   "cell_type": "code",
   "execution_count": 0,
   "metadata": {
    "colab": {},
    "colab_type": "code",
    "id": "F9lQex4G8BzJ"
   },
   "outputs": [],
   "source": [
    "## Training Set\n",
    "Dict_Pred = {'Predicted DJUSGF': Pred_Fama_Finance,\n",
    "             'DJUSGF': InputCSV['DJUSGF_LAST_PRICE'][0:Training_Length-Testing_Length],\n",
    "             'Predicted DJUSHC':Pred_Fama_Health,\n",
    "             'DJUSHC':InputCSV['DJUSHC_LAST_PRICE'][0:Training_Length-Testing_Length]}\n",
    "Out_Pred_df=pd.DataFrame(data=Dict_Pred,index=train_sub_Index)\n",
    "Out_Pred_df.to_excel(r'C:\\Users\\linzi\\Desktop\\CS3481 Code\\CAPM_Train.xlsx')\n",
    "## Testing Set\n",
    "Dict_Test = {'Testing DJUSGF': Test_Finance,\n",
    "             'DJUSGF': InputCSV['DJUSGF_LAST_PRICE'][Training_Length-Testing_Length:Training_Length],\n",
    "             'Testing DJUSHC':Test_Health,\n",
    "             'DJUSHC':InputCSV['DJUSHC_LAST_PRICE'][Training_Length-Testing_Length:Training_Length]}\n",
    "Out_Test_df=pd.DataFrame(data=Dict_Test,index=test_sub_Index)\n",
    "Out_Test_df.to_excel(r'C:\\Users\\linzi\\Desktop\\CS3481 Code\\CAPM_Test.xlsx')"
   ]
  },
  {
   "cell_type": "code",
   "execution_count": 0,
   "metadata": {
    "colab": {},
    "colab_type": "code",
    "id": "UkvD2ArT8BzO"
   },
   "outputs": [],
   "source": [
    "## Forecasting\n",
    "Dict_Fore = {'Forecasted DJUSGF': Forecast_Finance_df['Forecasted Financial Service Index'],\n",
    "             'DJUSGF Lower Bound': Forecast_Finance_df['Lower Bound'],\n",
    "             'DJUSGF Upper Bound': Forecast_Finance_df['Upper Bound'],\n",
    "             'DJUSGF in crisis':InputCSV['DJUSGF_LAST_PRICE'][Training_Length:Training_Length+125],\n",
    "             'Forecasted DJUSHC': Forecast_Health_df['Forecasted Health Care Index'],\n",
    "             'DJUSHC Lower Bound': Forecast_Health_df['Lower Bound'],\n",
    "             'DJUSHC Upper Bound': Forecast_Health_df['Upper Bound'],\n",
    "             'DJUSHC in crisis':InputCSV['DJUSHC_LAST_PRICE'][Training_Length:Training_Length+125]}\n",
    "Out_Fore_df=pd.DataFrame(data=Dict_Fore,index=test_Index)\n",
    "Out_Fore_df.to_excel(r'C:\\Users\\linzi\\Desktop\\CS3481 Code\\CAPM_Forecasting.xlsx')"
   ]
  },
  {
   "cell_type": "code",
   "execution_count": 0,
   "metadata": {
    "colab": {},
    "colab_type": "code",
    "id": "CDGP52e48BzU"
   },
   "outputs": [],
   "source": []
  }
 ],
 "metadata": {
  "colab": {
   "name": "Capital Asset Pricing Model.ipynb",
   "provenance": []
  },
  "kernelspec": {
   "display_name": "Python 3",
   "language": "python",
   "name": "python3"
  },
  "language_info": {
   "codemirror_mode": {
    "name": "ipython",
    "version": 3
   },
   "file_extension": ".py",
   "mimetype": "text/x-python",
   "name": "python",
   "nbconvert_exporter": "python",
   "pygments_lexer": "ipython3",
   "version": "3.7.4"
  }
 },
 "nbformat": 4,
 "nbformat_minor": 1
}
