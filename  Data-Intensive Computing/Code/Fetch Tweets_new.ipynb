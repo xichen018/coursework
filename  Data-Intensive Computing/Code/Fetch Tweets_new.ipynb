{
 "cells": [
  {
   "cell_type": "code",
   "execution_count": 1,
   "metadata": {
    "scrolled": false
   },
   "outputs": [
    {
     "name": "stdout",
     "output_type": "stream",
     "text": [
      "Collecting snscrape\n",
      "  Downloading snscrape-0.3.4-py3-none-any.whl (35 kB)\n",
      "Requirement already satisfied: beautifulsoup4 in c:\\users\\sama\\anaconda3\\lib\\site-packages (from snscrape) (4.9.1)\n",
      "Requirement already satisfied: requests[socks] in c:\\users\\sama\\anaconda3\\lib\\site-packages (from snscrape) (2.24.0)\n",
      "Requirement already satisfied: lxml in c:\\users\\sama\\anaconda3\\lib\\site-packages (from snscrape) (4.5.2)\n",
      "Requirement already satisfied: soupsieve>1.2 in c:\\users\\sama\\anaconda3\\lib\\site-packages (from beautifulsoup4->snscrape) (2.0.1)\n",
      "Requirement already satisfied: idna<3,>=2.5 in c:\\users\\sama\\anaconda3\\lib\\site-packages (from requests[socks]->snscrape) (2.10)\n",
      "Requirement already satisfied: urllib3!=1.25.0,!=1.25.1,<1.26,>=1.21.1 in c:\\users\\sama\\anaconda3\\lib\\site-packages (from requests[socks]->snscrape) (1.25.9)\n",
      "Note: you may need to restart the kernel to use updated packages.Requirement already satisfied: chardet<4,>=3.0.2 in c:\\users\\sama\\anaconda3\\lib\\site-packages (from requests[socks]->snscrape) (3.0.4)\n",
      "Requirement already satisfied: certifi>=2017.4.17 in c:\\users\\sama\\anaconda3\\lib\\site-packages (from requests[socks]->snscrape) (2020.6.20)\n",
      "Requirement already satisfied: PySocks!=1.5.7,>=1.5.6; extra == \"socks\" in c:\\users\\sama\\anaconda3\\lib\\site-packages (from requests[socks]->snscrape) (1.7.1)\n",
      "Installing collected packages: snscrape\n",
      "Successfully installed snscrape-0.3.4\n",
      "\n"
     ]
    }
   ],
   "source": [
    "pip install snscrape"
   ]
  },
  {
   "cell_type": "code",
   "execution_count": 7,
   "metadata": {},
   "outputs": [],
   "source": [
    "import snscrape.modules.twitter as sntwitter\n",
    "import csv\n",
    "\n",
    "keyword = '@realDonaldTrump'\n",
    "maxTweets = 50000\n",
    "\n",
    "#Open/create a file to append data to\n",
    "csvFile = open('Trump_.csv', 'a', newline='', encoding='utf8')\n",
    "\n",
    "#Use csv writer\n",
    "csvWriter = csv.writer(csvFile)\n",
    "csvWriter.writerow(['date','username','tweet']) \n",
    "\n",
    "i=0\n",
    "#retrieve 10-16号的tweet的话就since10-25 until10-26； 以此类推\n",
    "for i,tweet in enumerate(sntwitter.TwitterSearchScraper(keyword + ' since:2020-10-29 until:2020-10-30').get_items()):\n",
    "    if i > maxTweets:\n",
    "        break    \n",
    "    csvWriter.writerow([tweet.date, tweet.username,tweet.content])\n",
    "csvFile.close()"
   ]
  },
  {
   "cell_type": "code",
   "execution_count": 3,
   "metadata": {},
   "outputs": [],
   "source": [
    "import snscrape.modules.twitter as sntwitter\n",
    "import csv\n",
    "\n",
    "keyword = '@JoeBiden'\n",
    "maxTweets = 30000\n",
    "\n",
    "#Open/create a file to append data to\n",
    "csvFile = open('Joebiden_.csv', 'a', newline='', encoding='utf8')\n",
    "\n",
    "#Use csv writer\n",
    "csvWriter = csv.writer(csvFile)\n",
    "csvWriter.writerow(['date','username','tweet']) \n",
    "\n",
    "i=0\n",
    "#retrieve 10-16号的tweet的话就since10-25 until10-26； 以此类推\n",
    "for i,tweet in enumerate(sntwitter.TwitterSearchScraper(keyword + ' since:2020-10-15 until:2020-10-16').get_items()):\n",
    "    if i > maxTweets:\n",
    "        break    \n",
    "    csvWriter.writerow([tweet.date, tweet.username,tweet.content])\n",
    "csvFile.close()"
   ]
  },
  {
   "cell_type": "code",
   "execution_count": null,
   "metadata": {},
   "outputs": [],
   "source": [
    "27 29"
   ]
  }
 ],
 "metadata": {
  "kernelspec": {
   "display_name": "Python 3",
   "language": "python",
   "name": "python3"
  },
  "language_info": {
   "codemirror_mode": {
    "name": "ipython",
    "version": 3
   },
   "file_extension": ".py",
   "mimetype": "text/x-python",
   "name": "python",
   "nbconvert_exporter": "python",
   "pygments_lexer": "ipython3",
   "version": "3.8.3"
  }
 },
 "nbformat": 4,
 "nbformat_minor": 4
}
